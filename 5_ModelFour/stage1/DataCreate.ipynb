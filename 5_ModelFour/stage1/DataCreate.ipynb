{
 "cells": [
  {
   "cell_type": "code",
   "execution_count": null,
   "id": "initial_id",
   "metadata": {
    "collapsed": true
   },
   "outputs": [],
   "source": [
    "import pandas as pd\n",
    "\n",
    "# 读取原始CSV文件\n",
    "input_file = 'summerOly_athletes.csv'\n",
    "output_file = '2004new_summerOly_athletes.csv'\n",
    "\n",
    "# 读取CSV文件\n",
    "data = pd.read_csv(input_file)\n",
    "\n",
    "# 筛选条件：Year为2004或2008，Sport为Rowing\n",
    "filtered_data = data[(data['Year'].isin([2004])) & (data['Sport'] == 'Rowing')]\n",
    "\n",
    "# 将筛选后的数据保存到新的CSV文件\n",
    "filtered_data.to_csv(output_file, index=False)\n",
    "\n",
    "print(f\"筛选后的数据已保存到 {output_file}\")\n",
    "\n",
    "import pandas as pd\n",
    "\n",
    "\n",
    "def filter_data(file_path, output_path):\n",
    "    # 读取CSV文件\n",
    "    df = pd.read_csv(file_path)\n",
    "\n",
    "    # 筛选Sport列不是Rowing的行\n",
    "    df = df[df['Sport'] == 'Rowing']\n",
    "\n",
    "    # 筛选Year列是2008或2004的行\n",
    "    df = df[(df['Year'] == 2008) | (df['Year'] == 2004)]\n",
    "\n",
    "    # 筛选NOC列是USA的行\n",
    "    df = df[df['NOC'] == 'USA']\n",
    "\n",
    "    # 保存筛选后的数据到新的CSV文件\n",
    "    df.to_csv(output_path, index=False)\n",
    "    print(f\"Filtered data saved to {output_path}\")\n",
    "\n",
    "\n",
    "# 使用示例\n",
    "input_file_path = 'summerOly_athletes.csv'  # 替换为您的输入文件路径\n",
    "output_file_path = '2024-2028Rowing.csv'  # 输出文件路径\n",
    "filter_data(input_file_path, output_file_path)"
   ]
  },
  {
   "metadata": {},
   "cell_type": "code",
   "outputs": [],
   "execution_count": null,
   "source": [
    "mport pandas as pd\n",
    "\n",
    "def filter_data(file_path, output_path):\n",
    "    # 读取CSV文件\n",
    "    df = pd.read_csv(file_path)\n",
    "\n",
    "    # 筛选Sport列是Volleyball的行\n",
    "    df = df[df['Sport'] == 'Volleyball']\n",
    "\n",
    "    # 筛选Year列是2008或2004的行\n",
    "    df = df[(df['Year'] == 2012) | (df['Year'] == 2016)]\n",
    "\n",
    "    # 筛选NOC列是USA的行\n",
    "    df = df[df['NOC'] == 'CHN']\n",
    "\n",
    "    # 筛选Sex列是F的行\n",
    "    df = df[df['Sex'] == 'F']\n",
    "\n",
    "    # 保存筛选后的数据到新的CSV文件\n",
    "    df.to_csv(output_path, index=False)\n",
    "    print(f\"Filtered data saved to {output_path}\")\n",
    "\n",
    "\n",
    "# 使用示例\n",
    "input_file_path = 'summerOly_athletes.csv'  # 替换为您的输入文件路径\n",
    "output_file_path = '../../../../2502MCM/data/2012-2016Volleyball_Female.csv'  # 输出文件路径\n",
    "filter_data(input_file_path, output_file_path)"
   ],
   "id": "64edbff99d715de6"
  }
 ],
 "metadata": {
  "kernelspec": {
   "display_name": "Python 3",
   "language": "python",
   "name": "python3"
  },
  "language_info": {
   "codemirror_mode": {
    "name": "ipython",
    "version": 2
   },
   "file_extension": ".py",
   "mimetype": "text/x-python",
   "name": "python",
   "nbconvert_exporter": "python",
   "pygments_lexer": "ipython2",
   "version": "2.7.6"
  }
 },
 "nbformat": 4,
 "nbformat_minor": 5
}
